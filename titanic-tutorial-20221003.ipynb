{
 "cells": [
  {
   "cell_type": "code",
   "execution_count": 1,
   "id": "48bdb224",
   "metadata": {
    "_cell_guid": "b1076dfc-b9ad-4769-8c92-a6c4dae69d19",
    "_uuid": "8f2839f25d086af736a60e9eeb907d3b93b6e0e5",
    "execution": {
     "iopub.execute_input": "2022-10-06T08:25:41.322653Z",
     "iopub.status.busy": "2022-10-06T08:25:41.321646Z",
     "iopub.status.idle": "2022-10-06T08:25:41.340067Z",
     "shell.execute_reply": "2022-10-06T08:25:41.338563Z"
    },
    "papermill": {
     "duration": 0.031807,
     "end_time": "2022-10-06T08:25:41.343848",
     "exception": false,
     "start_time": "2022-10-06T08:25:41.312041",
     "status": "completed"
    },
    "tags": []
   },
   "outputs": [
    {
     "name": "stdout",
     "output_type": "stream",
     "text": [
      "/kaggle/input/titanic/train.csv\n",
      "/kaggle/input/titanic/test.csv\n",
      "/kaggle/input/titanic/gender_submission.csv\n"
     ]
    }
   ],
   "source": [
    "# This Python 3 environment comes with many helpful analytics libraries installed\n",
    "# It is defined by the kaggle/python Docker image: https://github.com/kaggle/docker-python\n",
    "# For example, here's several helpful packages to load\n",
    "\n",
    "import numpy as np # linear algebra\n",
    "import pandas as pd # data processing, CSV file I/O (e.g. pd.read_csv)\n",
    "\n",
    "# Input data files are available in the read-only \"../input/\" directory\n",
    "# For example, running this (by clicking run or pressing Shift+Enter) will list all files under the input directory\n",
    "\n",
    "import os\n",
    "for dirname, _, filenames in os.walk('/kaggle/input'):\n",
    "    for filename in filenames:\n",
    "        print(os.path.join(dirname, filename))\n",
    "\n",
    "# You can write up to 20GB to the current directory (/kaggle/working/) that gets preserved as output when you create a version using \"Save & Run All\" \n",
    "# You can also write temporary files to /kaggle/temp/, but they won't be saved outside of the current session"
   ]
  },
  {
   "cell_type": "code",
   "execution_count": 2,
   "id": "c2b7a76a",
   "metadata": {
    "execution": {
     "iopub.execute_input": "2022-10-06T08:25:41.356346Z",
     "iopub.status.busy": "2022-10-06T08:25:41.355915Z",
     "iopub.status.idle": "2022-10-06T08:25:41.405465Z",
     "shell.execute_reply": "2022-10-06T08:25:41.404267Z"
    },
    "papermill": {
     "duration": 0.058274,
     "end_time": "2022-10-06T08:25:41.407952",
     "exception": false,
     "start_time": "2022-10-06T08:25:41.349678",
     "status": "completed"
    },
    "tags": []
   },
   "outputs": [
    {
     "data": {
      "text/html": [
       "<div>\n",
       "<style scoped>\n",
       "    .dataframe tbody tr th:only-of-type {\n",
       "        vertical-align: middle;\n",
       "    }\n",
       "\n",
       "    .dataframe tbody tr th {\n",
       "        vertical-align: top;\n",
       "    }\n",
       "\n",
       "    .dataframe thead th {\n",
       "        text-align: right;\n",
       "    }\n",
       "</style>\n",
       "<table border=\"1\" class=\"dataframe\">\n",
       "  <thead>\n",
       "    <tr style=\"text-align: right;\">\n",
       "      <th></th>\n",
       "      <th>PassengerId</th>\n",
       "      <th>Survived</th>\n",
       "      <th>Pclass</th>\n",
       "      <th>Name</th>\n",
       "      <th>Sex</th>\n",
       "      <th>Age</th>\n",
       "      <th>SibSp</th>\n",
       "      <th>Parch</th>\n",
       "      <th>Ticket</th>\n",
       "      <th>Fare</th>\n",
       "      <th>Cabin</th>\n",
       "      <th>Embarked</th>\n",
       "    </tr>\n",
       "  </thead>\n",
       "  <tbody>\n",
       "    <tr>\n",
       "      <th>0</th>\n",
       "      <td>1</td>\n",
       "      <td>0</td>\n",
       "      <td>3</td>\n",
       "      <td>Braund, Mr. Owen Harris</td>\n",
       "      <td>male</td>\n",
       "      <td>22.0</td>\n",
       "      <td>1</td>\n",
       "      <td>0</td>\n",
       "      <td>A/5 21171</td>\n",
       "      <td>7.2500</td>\n",
       "      <td>NaN</td>\n",
       "      <td>S</td>\n",
       "    </tr>\n",
       "    <tr>\n",
       "      <th>1</th>\n",
       "      <td>2</td>\n",
       "      <td>1</td>\n",
       "      <td>1</td>\n",
       "      <td>Cumings, Mrs. John Bradley (Florence Briggs Th...</td>\n",
       "      <td>female</td>\n",
       "      <td>38.0</td>\n",
       "      <td>1</td>\n",
       "      <td>0</td>\n",
       "      <td>PC 17599</td>\n",
       "      <td>71.2833</td>\n",
       "      <td>C85</td>\n",
       "      <td>C</td>\n",
       "    </tr>\n",
       "    <tr>\n",
       "      <th>2</th>\n",
       "      <td>3</td>\n",
       "      <td>1</td>\n",
       "      <td>3</td>\n",
       "      <td>Heikkinen, Miss. Laina</td>\n",
       "      <td>female</td>\n",
       "      <td>26.0</td>\n",
       "      <td>0</td>\n",
       "      <td>0</td>\n",
       "      <td>STON/O2. 3101282</td>\n",
       "      <td>7.9250</td>\n",
       "      <td>NaN</td>\n",
       "      <td>S</td>\n",
       "    </tr>\n",
       "    <tr>\n",
       "      <th>3</th>\n",
       "      <td>4</td>\n",
       "      <td>1</td>\n",
       "      <td>1</td>\n",
       "      <td>Futrelle, Mrs. Jacques Heath (Lily May Peel)</td>\n",
       "      <td>female</td>\n",
       "      <td>35.0</td>\n",
       "      <td>1</td>\n",
       "      <td>0</td>\n",
       "      <td>113803</td>\n",
       "      <td>53.1000</td>\n",
       "      <td>C123</td>\n",
       "      <td>S</td>\n",
       "    </tr>\n",
       "    <tr>\n",
       "      <th>4</th>\n",
       "      <td>5</td>\n",
       "      <td>0</td>\n",
       "      <td>3</td>\n",
       "      <td>Allen, Mr. William Henry</td>\n",
       "      <td>male</td>\n",
       "      <td>35.0</td>\n",
       "      <td>0</td>\n",
       "      <td>0</td>\n",
       "      <td>373450</td>\n",
       "      <td>8.0500</td>\n",
       "      <td>NaN</td>\n",
       "      <td>S</td>\n",
       "    </tr>\n",
       "  </tbody>\n",
       "</table>\n",
       "</div>"
      ],
      "text/plain": [
       "   PassengerId  Survived  Pclass  \\\n",
       "0            1         0       3   \n",
       "1            2         1       1   \n",
       "2            3         1       3   \n",
       "3            4         1       1   \n",
       "4            5         0       3   \n",
       "\n",
       "                                                Name     Sex   Age  SibSp  \\\n",
       "0                            Braund, Mr. Owen Harris    male  22.0      1   \n",
       "1  Cumings, Mrs. John Bradley (Florence Briggs Th...  female  38.0      1   \n",
       "2                             Heikkinen, Miss. Laina  female  26.0      0   \n",
       "3       Futrelle, Mrs. Jacques Heath (Lily May Peel)  female  35.0      1   \n",
       "4                           Allen, Mr. William Henry    male  35.0      0   \n",
       "\n",
       "   Parch            Ticket     Fare Cabin Embarked  \n",
       "0      0         A/5 21171   7.2500   NaN        S  \n",
       "1      0          PC 17599  71.2833   C85        C  \n",
       "2      0  STON/O2. 3101282   7.9250   NaN        S  \n",
       "3      0            113803  53.1000  C123        S  \n",
       "4      0            373450   8.0500   NaN        S  "
      ]
     },
     "execution_count": 2,
     "metadata": {},
     "output_type": "execute_result"
    }
   ],
   "source": [
    "train_data = pd.read_csv(\"/kaggle/input/titanic/train.csv\")\n",
    "train_data.head()"
   ]
  },
  {
   "cell_type": "code",
   "execution_count": 3,
   "id": "ed1557fb",
   "metadata": {
    "execution": {
     "iopub.execute_input": "2022-10-06T08:25:41.420377Z",
     "iopub.status.busy": "2022-10-06T08:25:41.419424Z",
     "iopub.status.idle": "2022-10-06T08:25:41.443457Z",
     "shell.execute_reply": "2022-10-06T08:25:41.442400Z"
    },
    "papermill": {
     "duration": 0.032902,
     "end_time": "2022-10-06T08:25:41.446068",
     "exception": false,
     "start_time": "2022-10-06T08:25:41.413166",
     "status": "completed"
    },
    "tags": []
   },
   "outputs": [
    {
     "data": {
      "text/html": [
       "<div>\n",
       "<style scoped>\n",
       "    .dataframe tbody tr th:only-of-type {\n",
       "        vertical-align: middle;\n",
       "    }\n",
       "\n",
       "    .dataframe tbody tr th {\n",
       "        vertical-align: top;\n",
       "    }\n",
       "\n",
       "    .dataframe thead th {\n",
       "        text-align: right;\n",
       "    }\n",
       "</style>\n",
       "<table border=\"1\" class=\"dataframe\">\n",
       "  <thead>\n",
       "    <tr style=\"text-align: right;\">\n",
       "      <th></th>\n",
       "      <th>PassengerId</th>\n",
       "      <th>Pclass</th>\n",
       "      <th>Name</th>\n",
       "      <th>Sex</th>\n",
       "      <th>Age</th>\n",
       "      <th>SibSp</th>\n",
       "      <th>Parch</th>\n",
       "      <th>Ticket</th>\n",
       "      <th>Fare</th>\n",
       "      <th>Cabin</th>\n",
       "      <th>Embarked</th>\n",
       "    </tr>\n",
       "  </thead>\n",
       "  <tbody>\n",
       "    <tr>\n",
       "      <th>0</th>\n",
       "      <td>892</td>\n",
       "      <td>3</td>\n",
       "      <td>Kelly, Mr. James</td>\n",
       "      <td>male</td>\n",
       "      <td>34.5</td>\n",
       "      <td>0</td>\n",
       "      <td>0</td>\n",
       "      <td>330911</td>\n",
       "      <td>7.8292</td>\n",
       "      <td>NaN</td>\n",
       "      <td>Q</td>\n",
       "    </tr>\n",
       "    <tr>\n",
       "      <th>1</th>\n",
       "      <td>893</td>\n",
       "      <td>3</td>\n",
       "      <td>Wilkes, Mrs. James (Ellen Needs)</td>\n",
       "      <td>female</td>\n",
       "      <td>47.0</td>\n",
       "      <td>1</td>\n",
       "      <td>0</td>\n",
       "      <td>363272</td>\n",
       "      <td>7.0000</td>\n",
       "      <td>NaN</td>\n",
       "      <td>S</td>\n",
       "    </tr>\n",
       "    <tr>\n",
       "      <th>2</th>\n",
       "      <td>894</td>\n",
       "      <td>2</td>\n",
       "      <td>Myles, Mr. Thomas Francis</td>\n",
       "      <td>male</td>\n",
       "      <td>62.0</td>\n",
       "      <td>0</td>\n",
       "      <td>0</td>\n",
       "      <td>240276</td>\n",
       "      <td>9.6875</td>\n",
       "      <td>NaN</td>\n",
       "      <td>Q</td>\n",
       "    </tr>\n",
       "    <tr>\n",
       "      <th>3</th>\n",
       "      <td>895</td>\n",
       "      <td>3</td>\n",
       "      <td>Wirz, Mr. Albert</td>\n",
       "      <td>male</td>\n",
       "      <td>27.0</td>\n",
       "      <td>0</td>\n",
       "      <td>0</td>\n",
       "      <td>315154</td>\n",
       "      <td>8.6625</td>\n",
       "      <td>NaN</td>\n",
       "      <td>S</td>\n",
       "    </tr>\n",
       "    <tr>\n",
       "      <th>4</th>\n",
       "      <td>896</td>\n",
       "      <td>3</td>\n",
       "      <td>Hirvonen, Mrs. Alexander (Helga E Lindqvist)</td>\n",
       "      <td>female</td>\n",
       "      <td>22.0</td>\n",
       "      <td>1</td>\n",
       "      <td>1</td>\n",
       "      <td>3101298</td>\n",
       "      <td>12.2875</td>\n",
       "      <td>NaN</td>\n",
       "      <td>S</td>\n",
       "    </tr>\n",
       "  </tbody>\n",
       "</table>\n",
       "</div>"
      ],
      "text/plain": [
       "   PassengerId  Pclass                                          Name     Sex  \\\n",
       "0          892       3                              Kelly, Mr. James    male   \n",
       "1          893       3              Wilkes, Mrs. James (Ellen Needs)  female   \n",
       "2          894       2                     Myles, Mr. Thomas Francis    male   \n",
       "3          895       3                              Wirz, Mr. Albert    male   \n",
       "4          896       3  Hirvonen, Mrs. Alexander (Helga E Lindqvist)  female   \n",
       "\n",
       "    Age  SibSp  Parch   Ticket     Fare Cabin Embarked  \n",
       "0  34.5      0      0   330911   7.8292   NaN        Q  \n",
       "1  47.0      1      0   363272   7.0000   NaN        S  \n",
       "2  62.0      0      0   240276   9.6875   NaN        Q  \n",
       "3  27.0      0      0   315154   8.6625   NaN        S  \n",
       "4  22.0      1      1  3101298  12.2875   NaN        S  "
      ]
     },
     "execution_count": 3,
     "metadata": {},
     "output_type": "execute_result"
    }
   ],
   "source": [
    "test_data = pd.read_csv(\"/kaggle/input/titanic/test.csv\")\n",
    "test_data.head()"
   ]
  },
  {
   "cell_type": "code",
   "execution_count": 4,
   "id": "a8ff3ab6",
   "metadata": {
    "execution": {
     "iopub.execute_input": "2022-10-06T08:25:41.458675Z",
     "iopub.status.busy": "2022-10-06T08:25:41.458261Z",
     "iopub.status.idle": "2022-10-06T08:25:41.486341Z",
     "shell.execute_reply": "2022-10-06T08:25:41.485064Z"
    },
    "papermill": {
     "duration": 0.037963,
     "end_time": "2022-10-06T08:25:41.489538",
     "exception": false,
     "start_time": "2022-10-06T08:25:41.451575",
     "status": "completed"
    },
    "tags": []
   },
   "outputs": [
    {
     "name": "stdout",
     "output_type": "stream",
     "text": [
      "<class 'pandas.core.frame.DataFrame'>\n",
      "RangeIndex: 891 entries, 0 to 890\n",
      "Data columns (total 12 columns):\n",
      " #   Column       Non-Null Count  Dtype  \n",
      "---  ------       --------------  -----  \n",
      " 0   PassengerId  891 non-null    int64  \n",
      " 1   Survived     891 non-null    int64  \n",
      " 2   Pclass       891 non-null    int64  \n",
      " 3   Name         891 non-null    object \n",
      " 4   Sex          891 non-null    object \n",
      " 5   Age          714 non-null    float64\n",
      " 6   SibSp        891 non-null    int64  \n",
      " 7   Parch        891 non-null    int64  \n",
      " 8   Ticket       891 non-null    object \n",
      " 9   Fare         891 non-null    float64\n",
      " 10  Cabin        204 non-null    object \n",
      " 11  Embarked     889 non-null    object \n",
      "dtypes: float64(2), int64(5), object(5)\n",
      "memory usage: 83.7+ KB\n"
     ]
    }
   ],
   "source": [
    "train_data.info()"
   ]
  },
  {
   "cell_type": "code",
   "execution_count": 5,
   "id": "51437d5d",
   "metadata": {
    "execution": {
     "iopub.execute_input": "2022-10-06T08:25:41.503291Z",
     "iopub.status.busy": "2022-10-06T08:25:41.502888Z",
     "iopub.status.idle": "2022-10-06T08:25:41.513098Z",
     "shell.execute_reply": "2022-10-06T08:25:41.511831Z"
    },
    "papermill": {
     "duration": 0.019832,
     "end_time": "2022-10-06T08:25:41.515774",
     "exception": false,
     "start_time": "2022-10-06T08:25:41.495942",
     "status": "completed"
    },
    "tags": []
   },
   "outputs": [
    {
     "name": "stdout",
     "output_type": "stream",
     "text": [
      "total male passengers\t\t : 577 \n",
      "male passengers survived\t : 109 \n",
      "% survived\t\t\t : 0.18890814558058924\n"
     ]
    }
   ],
   "source": [
    "men = train_data[train_data[\"Sex\"]==\"male\"][\"Survived\"]\n",
    "\n",
    "print(\"total male passengers\\t\\t :\", len(men),\n",
    "      \"\\nmale passengers survived\\t :\", sum(men),\n",
    "      \"\\n% survived\\t\\t\\t :\", sum(men)/len(men))"
   ]
  },
  {
   "cell_type": "code",
   "execution_count": 6,
   "id": "83e3d75f",
   "metadata": {
    "execution": {
     "iopub.execute_input": "2022-10-06T08:25:41.528985Z",
     "iopub.status.busy": "2022-10-06T08:25:41.528080Z",
     "iopub.status.idle": "2022-10-06T08:25:41.536147Z",
     "shell.execute_reply": "2022-10-06T08:25:41.534827Z"
    },
    "papermill": {
     "duration": 0.017859,
     "end_time": "2022-10-06T08:25:41.539136",
     "exception": false,
     "start_time": "2022-10-06T08:25:41.521277",
     "status": "completed"
    },
    "tags": []
   },
   "outputs": [
    {
     "name": "stdout",
     "output_type": "stream",
     "text": [
      "total female passengers\t\t : 314 \n",
      "female passengers survived\t : 233 \n",
      "% survived\t\t\t : 0.7420382165605095\n"
     ]
    }
   ],
   "source": [
    "men = train_data[train_data[\"Sex\"]==\"female\"][\"Survived\"]\n",
    "\n",
    "print(\"total female passengers\\t\\t :\", len(men),\n",
    "      \"\\nfemale passengers survived\\t :\", sum(men),\n",
    "      \"\\n% survived\\t\\t\\t :\", sum(men)/len(men))"
   ]
  },
  {
   "cell_type": "code",
   "execution_count": 7,
   "id": "c51ed5ea",
   "metadata": {
    "execution": {
     "iopub.execute_input": "2022-10-06T08:25:41.552779Z",
     "iopub.status.busy": "2022-10-06T08:25:41.552380Z",
     "iopub.status.idle": "2022-10-06T08:25:41.586169Z",
     "shell.execute_reply": "2022-10-06T08:25:41.585207Z"
    },
    "papermill": {
     "duration": 0.043451,
     "end_time": "2022-10-06T08:25:41.588396",
     "exception": false,
     "start_time": "2022-10-06T08:25:41.544945",
     "status": "completed"
    },
    "tags": []
   },
   "outputs": [
    {
     "data": {
      "text/html": [
       "<div>\n",
       "<style scoped>\n",
       "    .dataframe tbody tr th:only-of-type {\n",
       "        vertical-align: middle;\n",
       "    }\n",
       "\n",
       "    .dataframe tbody tr th {\n",
       "        vertical-align: top;\n",
       "    }\n",
       "\n",
       "    .dataframe thead th {\n",
       "        text-align: right;\n",
       "    }\n",
       "</style>\n",
       "<table border=\"1\" class=\"dataframe\">\n",
       "  <thead>\n",
       "    <tr style=\"text-align: right;\">\n",
       "      <th></th>\n",
       "      <th>PassengerId</th>\n",
       "      <th>Survived</th>\n",
       "      <th>Pclass</th>\n",
       "      <th>Age</th>\n",
       "      <th>SibSp</th>\n",
       "      <th>Parch</th>\n",
       "      <th>Fare</th>\n",
       "    </tr>\n",
       "  </thead>\n",
       "  <tbody>\n",
       "    <tr>\n",
       "      <th>count</th>\n",
       "      <td>891.000000</td>\n",
       "      <td>891.000000</td>\n",
       "      <td>891.000000</td>\n",
       "      <td>714.000000</td>\n",
       "      <td>891.000000</td>\n",
       "      <td>891.000000</td>\n",
       "      <td>891.000000</td>\n",
       "    </tr>\n",
       "    <tr>\n",
       "      <th>mean</th>\n",
       "      <td>446.000000</td>\n",
       "      <td>0.383838</td>\n",
       "      <td>2.308642</td>\n",
       "      <td>29.699118</td>\n",
       "      <td>0.523008</td>\n",
       "      <td>0.381594</td>\n",
       "      <td>32.204208</td>\n",
       "    </tr>\n",
       "    <tr>\n",
       "      <th>std</th>\n",
       "      <td>257.353842</td>\n",
       "      <td>0.486592</td>\n",
       "      <td>0.836071</td>\n",
       "      <td>14.526497</td>\n",
       "      <td>1.102743</td>\n",
       "      <td>0.806057</td>\n",
       "      <td>49.693429</td>\n",
       "    </tr>\n",
       "    <tr>\n",
       "      <th>min</th>\n",
       "      <td>1.000000</td>\n",
       "      <td>0.000000</td>\n",
       "      <td>1.000000</td>\n",
       "      <td>0.420000</td>\n",
       "      <td>0.000000</td>\n",
       "      <td>0.000000</td>\n",
       "      <td>0.000000</td>\n",
       "    </tr>\n",
       "    <tr>\n",
       "      <th>25%</th>\n",
       "      <td>223.500000</td>\n",
       "      <td>0.000000</td>\n",
       "      <td>2.000000</td>\n",
       "      <td>20.125000</td>\n",
       "      <td>0.000000</td>\n",
       "      <td>0.000000</td>\n",
       "      <td>7.910400</td>\n",
       "    </tr>\n",
       "    <tr>\n",
       "      <th>50%</th>\n",
       "      <td>446.000000</td>\n",
       "      <td>0.000000</td>\n",
       "      <td>3.000000</td>\n",
       "      <td>28.000000</td>\n",
       "      <td>0.000000</td>\n",
       "      <td>0.000000</td>\n",
       "      <td>14.454200</td>\n",
       "    </tr>\n",
       "    <tr>\n",
       "      <th>75%</th>\n",
       "      <td>668.500000</td>\n",
       "      <td>1.000000</td>\n",
       "      <td>3.000000</td>\n",
       "      <td>38.000000</td>\n",
       "      <td>1.000000</td>\n",
       "      <td>0.000000</td>\n",
       "      <td>31.000000</td>\n",
       "    </tr>\n",
       "    <tr>\n",
       "      <th>max</th>\n",
       "      <td>891.000000</td>\n",
       "      <td>1.000000</td>\n",
       "      <td>3.000000</td>\n",
       "      <td>80.000000</td>\n",
       "      <td>8.000000</td>\n",
       "      <td>6.000000</td>\n",
       "      <td>512.329200</td>\n",
       "    </tr>\n",
       "  </tbody>\n",
       "</table>\n",
       "</div>"
      ],
      "text/plain": [
       "       PassengerId    Survived      Pclass         Age       SibSp  \\\n",
       "count   891.000000  891.000000  891.000000  714.000000  891.000000   \n",
       "mean    446.000000    0.383838    2.308642   29.699118    0.523008   \n",
       "std     257.353842    0.486592    0.836071   14.526497    1.102743   \n",
       "min       1.000000    0.000000    1.000000    0.420000    0.000000   \n",
       "25%     223.500000    0.000000    2.000000   20.125000    0.000000   \n",
       "50%     446.000000    0.000000    3.000000   28.000000    0.000000   \n",
       "75%     668.500000    1.000000    3.000000   38.000000    1.000000   \n",
       "max     891.000000    1.000000    3.000000   80.000000    8.000000   \n",
       "\n",
       "            Parch        Fare  \n",
       "count  891.000000  891.000000  \n",
       "mean     0.381594   32.204208  \n",
       "std      0.806057   49.693429  \n",
       "min      0.000000    0.000000  \n",
       "25%      0.000000    7.910400  \n",
       "50%      0.000000   14.454200  \n",
       "75%      0.000000   31.000000  \n",
       "max      6.000000  512.329200  "
      ]
     },
     "execution_count": 7,
     "metadata": {},
     "output_type": "execute_result"
    }
   ],
   "source": [
    "train_data.describe()"
   ]
  },
  {
   "cell_type": "code",
   "execution_count": 8,
   "id": "ecad95ca",
   "metadata": {
    "execution": {
     "iopub.execute_input": "2022-10-06T08:25:41.601585Z",
     "iopub.status.busy": "2022-10-06T08:25:41.601131Z",
     "iopub.status.idle": "2022-10-06T08:25:43.221941Z",
     "shell.execute_reply": "2022-10-06T08:25:43.220594Z"
    },
    "papermill": {
     "duration": 1.630532,
     "end_time": "2022-10-06T08:25:43.224736",
     "exception": false,
     "start_time": "2022-10-06T08:25:41.594204",
     "status": "completed"
    },
    "tags": []
   },
   "outputs": [
    {
     "name": "stdout",
     "output_type": "stream",
     "text": [
      "Your submission was successfully saved!\n"
     ]
    }
   ],
   "source": [
    "from sklearn.ensemble import RandomForestClassifier\n",
    "\n",
    "y = train_data[\"Survived\"]\n",
    "\n",
    "features = [\"Pclass\", \"Sex\", \"SibSp\", \"Parch\"]\n",
    "X = pd.get_dummies(train_data[features])\n",
    "X_test = pd.get_dummies(test_data[features])\n",
    "\n",
    "model = RandomForestClassifier(n_estimators=100, max_depth=5, random_state=1)\n",
    "model.fit(X, y)\n",
    "predictions = model.predict(X_test)\n",
    "\n",
    "output = pd.DataFrame({'PassengerId': test_data.PassengerId, 'Survived': predictions})\n",
    "output.to_csv('submission.csv', index=False)\n",
    "print(\"Your submission was successfully saved!\")"
   ]
  },
  {
   "cell_type": "code",
   "execution_count": 9,
   "id": "8a10d6f9",
   "metadata": {
    "execution": {
     "iopub.execute_input": "2022-10-06T08:25:43.238366Z",
     "iopub.status.busy": "2022-10-06T08:25:43.237970Z",
     "iopub.status.idle": "2022-10-06T08:25:43.249312Z",
     "shell.execute_reply": "2022-10-06T08:25:43.248188Z"
    },
    "papermill": {
     "duration": 0.021557,
     "end_time": "2022-10-06T08:25:43.252243",
     "exception": false,
     "start_time": "2022-10-06T08:25:43.230686",
     "status": "completed"
    },
    "tags": []
   },
   "outputs": [
    {
     "data": {
      "text/plain": [
       "<bound method NDFrame.head of      PassengerId  Survived\n",
       "0            892         0\n",
       "1            893         1\n",
       "2            894         0\n",
       "3            895         0\n",
       "4            896         1\n",
       "..           ...       ...\n",
       "413         1305         0\n",
       "414         1306         1\n",
       "415         1307         0\n",
       "416         1308         0\n",
       "417         1309         0\n",
       "\n",
       "[418 rows x 2 columns]>"
      ]
     },
     "execution_count": 9,
     "metadata": {},
     "output_type": "execute_result"
    }
   ],
   "source": [
    "output.head"
   ]
  },
  {
   "cell_type": "code",
   "execution_count": 10,
   "id": "9fadf213",
   "metadata": {
    "execution": {
     "iopub.execute_input": "2022-10-06T08:25:43.266560Z",
     "iopub.status.busy": "2022-10-06T08:25:43.265630Z",
     "iopub.status.idle": "2022-10-06T08:25:43.275972Z",
     "shell.execute_reply": "2022-10-06T08:25:43.274594Z"
    },
    "papermill": {
     "duration": 0.019955,
     "end_time": "2022-10-06T08:25:43.278252",
     "exception": false,
     "start_time": "2022-10-06T08:25:43.258297",
     "status": "completed"
    },
    "tags": []
   },
   "outputs": [
    {
     "data": {
      "text/plain": [
       "S    644\n",
       "C    168\n",
       "Q     77\n",
       "Name: Embarked, dtype: int64"
      ]
     },
     "execution_count": 10,
     "metadata": {},
     "output_type": "execute_result"
    }
   ],
   "source": [
    "train_data[\"Embarked\"].value_counts()"
   ]
  },
  {
   "cell_type": "code",
   "execution_count": 11,
   "id": "381a3318",
   "metadata": {
    "execution": {
     "iopub.execute_input": "2022-10-06T08:25:43.292260Z",
     "iopub.status.busy": "2022-10-06T08:25:43.291872Z",
     "iopub.status.idle": "2022-10-06T08:25:43.763242Z",
     "shell.execute_reply": "2022-10-06T08:25:43.762243Z"
    },
    "papermill": {
     "duration": 0.481248,
     "end_time": "2022-10-06T08:25:43.765854",
     "exception": false,
     "start_time": "2022-10-06T08:25:43.284606",
     "status": "completed"
    },
    "tags": []
   },
   "outputs": [
    {
     "data": {
      "text/plain": [
       "<AxesSubplot:xlabel='Pclass', ylabel='Age'>"
      ]
     },
     "execution_count": 11,
     "metadata": {},
     "output_type": "execute_result"
    },
    {
     "data": {
      "image/png": "[encoded data removed]",
      "text/plain": [
       "<Figure size 432x288 with 1 Axes>"
      ]
     },
     "metadata": {
      "needs_background": "light"
     },
     "output_type": "display_data"
    }
   ],
   "source": [
    "import seaborn as sns\n",
    "\n",
    "sns.boxplot(data = train_data, y = \"Age\", x = \"Pclass\")"
   ]
  },
  {
   "cell_type": "code",
   "execution_count": 12,
   "id": "e34f51f7",
   "metadata": {
    "execution": {
     "iopub.execute_input": "2022-10-06T08:25:43.781502Z",
     "iopub.status.busy": "2022-10-06T08:25:43.780398Z",
     "iopub.status.idle": "2022-10-06T08:25:44.365425Z",
     "shell.execute_reply": "2022-10-06T08:25:44.364090Z"
    },
    "papermill": {
     "duration": 0.595549,
     "end_time": "2022-10-06T08:25:44.368047",
     "exception": false,
     "start_time": "2022-10-06T08:25:43.772498",
     "status": "completed"
    },
    "tags": []
   },
   "outputs": [
    {
     "data": {
      "text/plain": [
       "<matplotlib.legend.Legend at 0x7f8384d731d0>"
      ]
     },
     "execution_count": 12,
     "metadata": {},
     "output_type": "execute_result"
    },
    {
     "data": {
      "image/png": "[encoded data removed]",
      "text/plain": [
       "<Figure size 432x216 with 2 Axes>"
      ]
     },
     "metadata": {
      "needs_background": "light"
     },
     "output_type": "display_data"
    }
   ],
   "source": [
    "plot = sns.FacetGrid(data = train_data, \n",
    "                     col = \"Survived\", \n",
    "                     hue = \"Sex\", \n",
    "                     col_wrap = 2)\n",
    "plot.map(sns.scatterplot, \"Age\", \"Fare\")\n",
    "plot.axes[-1].legend()"
   ]
  },
  {
   "cell_type": "code",
   "execution_count": 13,
   "id": "be9c785d",
   "metadata": {
    "execution": {
     "iopub.execute_input": "2022-10-06T08:25:44.383864Z",
     "iopub.status.busy": "2022-10-06T08:25:44.383463Z",
     "iopub.status.idle": "2022-10-06T08:25:44.704306Z",
     "shell.execute_reply": "2022-10-06T08:25:44.703138Z"
    },
    "papermill": {
     "duration": 0.331703,
     "end_time": "2022-10-06T08:25:44.706804",
     "exception": false,
     "start_time": "2022-10-06T08:25:44.375101",
     "status": "completed"
    },
    "tags": []
   },
   "outputs": [
    {
     "data": {
      "image/png": "[encoded data removed]",
      "text/plain": [
       "<Figure size 432x288 with 1 Axes>"
      ]
     },
     "metadata": {
      "needs_background": "light"
     },
     "output_type": "display_data"
    }
   ],
   "source": [
    "plot = sns.scatterplot(data = train_data[train_data[\"Survived\"]==1], x = \"Age\", y = \"Fare\", hue = \"Sex\")"
   ]
  },
  {
   "cell_type": "code",
   "execution_count": 14,
   "id": "d5758367",
   "metadata": {
    "execution": {
     "iopub.execute_input": "2022-10-06T08:25:44.723669Z",
     "iopub.status.busy": "2022-10-06T08:25:44.723251Z",
     "iopub.status.idle": "2022-10-06T08:25:46.092193Z",
     "shell.execute_reply": "2022-10-06T08:25:46.090886Z"
    },
    "papermill": {
     "duration": 1.380492,
     "end_time": "2022-10-06T08:25:46.094925",
     "exception": false,
     "start_time": "2022-10-06T08:25:44.714433",
     "status": "completed"
    },
    "tags": []
   },
   "outputs": [
    {
     "data": {
      "text/plain": [
       "<seaborn.axisgrid.FacetGrid at 0x7f8384cad590>"
      ]
     },
     "execution_count": 14,
     "metadata": {},
     "output_type": "execute_result"
    },
    {
     "data": {
      "image/png": "[encoded data removed]",
      "text/plain": [
       "<Figure size 474.375x432 with 4 Axes>"
      ]
     },
     "metadata": {
      "needs_background": "light"
     },
     "output_type": "display_data"
    }
   ],
   "source": [
    "plot2 = sns.FacetGrid(data = train_data, \n",
    "                     col = \"Survived\", row = \"Sex\",\n",
    "                     hue = \"Pclass\")\n",
    "plot2.map(sns.scatterplot, \"Age\", \"Fare\")\n",
    "plot2.add_legend()"
   ]
  },
  {
   "cell_type": "markdown",
   "id": "83d03245",
   "metadata": {
    "papermill": {
     "duration": 0.007838,
     "end_time": "2022-10-06T08:25:46.112497",
     "exception": false,
     "start_time": "2022-10-06T08:25:46.104659",
     "status": "completed"
    },
    "tags": []
   },
   "source": [
    "Seems that there were more women in the first class and hence their survival chances were better"
   ]
  },
  {
   "cell_type": "code",
   "execution_count": 15,
   "id": "ec1e3e9a",
   "metadata": {
    "execution": {
     "iopub.execute_input": "2022-10-06T08:25:46.130369Z",
     "iopub.status.busy": "2022-10-06T08:25:46.129951Z",
     "iopub.status.idle": "2022-10-06T08:25:46.909779Z",
     "shell.execute_reply": "2022-10-06T08:25:46.908674Z"
    },
    "papermill": {
     "duration": 0.792092,
     "end_time": "2022-10-06T08:25:46.912595",
     "exception": false,
     "start_time": "2022-10-06T08:25:46.120503",
     "status": "completed"
    },
    "tags": []
   },
   "outputs": [
    {
     "data": {
      "text/plain": [
       "Text(0.5, 0.98, 'Only those that survived')"
      ]
     },
     "execution_count": 15,
     "metadata": {},
     "output_type": "execute_result"
    },
    {
     "data": {
      "image/png": "[encoded data removed]",
      "text/plain": [
       "<Figure size 474.375x216 with 2 Axes>"
      ]
     },
     "metadata": {
      "needs_background": "light"
     },
     "output_type": "display_data"
    }
   ],
   "source": [
    "plot2 = sns.FacetGrid(data = train_data[train_data[\"Survived\"]==1], \n",
    "                     col = \"Sex\",\n",
    "                     hue = \"Pclass\")\n",
    "plot2.map(sns.scatterplot, \"Age\", \"Fare\")\n",
    "plot2.add_legend()\n",
    "plot2.fig.suptitle(\"Only those that survived\")"
   ]
  },
  {
   "cell_type": "code",
   "execution_count": 16,
   "id": "cefaae8f",
   "metadata": {
    "execution": {
     "iopub.execute_input": "2022-10-06T08:25:46.933601Z",
     "iopub.status.busy": "2022-10-06T08:25:46.932318Z",
     "iopub.status.idle": "2022-10-06T08:25:46.940906Z",
     "shell.execute_reply": "2022-10-06T08:25:46.939738Z"
    },
    "papermill": {
     "duration": 0.022007,
     "end_time": "2022-10-06T08:25:46.943565",
     "exception": false,
     "start_time": "2022-10-06T08:25:46.921558",
     "status": "completed"
    },
    "tags": []
   },
   "outputs": [
    {
     "data": {
      "text/plain": [
       "PassengerId      int64\n",
       "Survived         int64\n",
       "Pclass           int64\n",
       "Name            object\n",
       "Sex             object\n",
       "Age            float64\n",
       "SibSp            int64\n",
       "Parch            int64\n",
       "Ticket          object\n",
       "Fare           float64\n",
       "Cabin           object\n",
       "Embarked        object\n",
       "dtype: object"
      ]
     },
     "execution_count": 16,
     "metadata": {},
     "output_type": "execute_result"
    }
   ],
   "source": [
    "train_data.dtypes"
   ]
  }
 ],
 "metadata": {
  "kernelspec": {
   "display_name": "Python 3",
   "language": "python",
   "name": "python3"
  },
  "language_info": {
   "codemirror_mode": {
    "name": "ipython",
    "version": 3
   },
   "file_extension": ".py",
   "mimetype": "text/x-python",
   "name": "python",
   "nbconvert_exporter": "python",
   "pygments_lexer": "ipython3",
   "version": "3.7.12"
  },
  "papermill": {
   "default_parameters": {},
   "duration": 15.495919,
   "end_time": "2022-10-06T08:25:47.775500",
   "environment_variables": {},
   "exception": null,
   "input_path": "__notebook__.ipynb",
   "output_path": "__notebook__.ipynb",
   "parameters": {},
   "start_time": "2022-10-06T08:25:32.279581",
   "version": "2.3.4"
  }
 },
 "nbformat": 4,
 "nbformat_minor": 5
}
